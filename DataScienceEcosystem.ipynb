{
  "metadata": {
    "kernelspec": {
      "name": "python",
      "display_name": "Python (Pyodide)",
      "language": "python"
    },
    "language_info": {
      "codemirror_mode": {
        "name": "python",
        "version": 3
      },
      "file_extension": ".py",
      "mimetype": "text/x-python",
      "name": "python",
      "nbconvert_exporter": "python",
      "pygments_lexer": "ipython3",
      "version": "3.8"
    }
  },
  "nbformat_minor": 5,
  "nbformat": 4,
  "cells": [
    {
      "id": "be2f0f94-68a7-4ca0-9150-a6f56959e016",
      "cell_type": "markdown",
      "source": "# Final Project: Data Science Tools and Ecosystem\n",
      "metadata": {}
    },
    {
      "id": "26abba04-a679-460a-89a0-8dd476d2d060",
      "cell_type": "markdown",
      "source": "## Introduction\nThis notebook provides an overview of various tools, languages, and libraries used in Data Science.\n",
      "metadata": {}
    },
    {
      "id": "64ba0804-eb20-493f-8b66-d01fd8b19cbe",
      "cell_type": "markdown",
      "source": "## Some of the popular languages Data Scientist use are:\n\n1. Python\n2. R\n3. Julia\n4. SQL\n5. Scala\n",
      "metadata": {}
    },
    {
      "id": "b891f841-2d67-4358-9ec4-babd5b370e02",
      "cell_type": "markdown",
      "source": "## Some of the commonly used data science libraries includes:\n1. NumPy\n2. Pandas\n3. Scikit-learn\n4. TensorFlow\n5. PyTorch\n",
      "metadata": {}
    },
    {
      "id": "d43a1c2d-d328-48d3-b0b5-f85625ea71bf",
      "cell_type": "markdown",
      "source": "## Data Science Tools\n\n| Tool          |\n|--------------|\n| Jupyter Notebook | \n| RStudio      | \n| TensorFlow   | \n| Apache Spark | \n",
      "metadata": {}
    },
    {
      "id": "4b4918d6-82c9-4cc3-8d1e-fc1041bc3e94",
      "cell_type": "markdown",
      "source": "### Below are a few examples of evaluating arithmetic expressions in Python",
      "metadata": {}
    },
    {
      "id": "c75a16ea-eecb-4153-a699-73ed32079146",
      "cell_type": "code",
      "source": "# Multiply and add numbers\nresult = (3 * 4) + 5\nresult\n",
      "metadata": {
        "trusted": true
      },
      "outputs": [
        {
          "execution_count": 10,
          "output_type": "execute_result",
          "data": {
            "text/plain": "17"
          },
          "metadata": {}
        }
      ],
      "execution_count": 10
    },
    {
      "id": "5fa55c0e-5401-4be9-ac65-e752538a11c7",
      "cell_type": "code",
      "source": "# Convert minutes to hours\nminutes = 200\nhours = minutes / 60\nhours\n",
      "metadata": {
        "trusted": true
      },
      "outputs": [
        {
          "execution_count": 11,
          "output_type": "execute_result",
          "data": {
            "text/plain": "3.3333333333333335"
          },
          "metadata": {}
        }
      ],
      "execution_count": 11
    },
    {
      "id": "95f81677-2f4a-406c-b098-30f2aa2c8fdc",
      "cell_type": "markdown",
      "source": "## Objectives covered in this notebook\n- List popular Data Science languages\n- Identify commonly used libraries\n- Present Data Science tools in a tabular format\n- Demonstrate arithmetic expressions in Python\n- Convert time units from minutes to hours\n",
      "metadata": {}
    },
    {
      "id": "6e4ce07e-cf96-419c-b7bb-540c1a6253b3",
      "cell_type": "markdown",
      "source": "## Author\nWilson Udofia",
      "metadata": {}
    }
  ]
}